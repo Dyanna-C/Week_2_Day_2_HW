{
 "cells": [
  {
   "cell_type": "markdown",
   "id": "e1327468",
   "metadata": {},
   "source": [
    "Exercise 1\n",
    "Create a list of numbers that are less than ten using l_1 and list comprehension\n",
    "\n",
    "\n",
    "Your output should [1,5,8,9]"
   ]
  },
  {
   "cell_type": "code",
   "execution_count": 9,
   "id": "392d7ebb",
   "metadata": {},
   "outputs": [
    {
     "name": "stdout",
     "output_type": "stream",
     "text": [
      "[1, 5, 8, 9]\n"
     ]
    }
   ],
   "source": [
    "# Use the following list - [1,11,14,5,8,9]\n",
    "\n",
    "nums = [1,11,14,5,8,9]\n",
    "\n",
    "#sorted_list = sorted(nums)\n",
    "\n",
    "#print(nums)\n",
    "#print(sorted_list)\n",
    "\n",
    "\n",
    "\n",
    "nums = sorted(i for i in nums if i <= 10)\n",
    "print(nums)\n",
    "\n"
   ]
  },
  {
   "cell_type": "markdown",
   "id": "85990d8e",
   "metadata": {},
   "source": [
    "Exercise 2\n",
    "Using list comprehension, create a list of names of 4 letters or more and capitalize each name"
   ]
  },
  {
   "cell_type": "code",
   "execution_count": 21,
   "id": "deef86c0",
   "metadata": {},
   "outputs": [
    {
     "name": "stdout",
     "output_type": "stream",
     "text": [
      "['connor', 'connor', 'connor', 'evan', 'evan', 'kevin']\n",
      "['Connor', 'Connor', 'Connor', 'Evan', 'Evan', 'Kevin']\n"
     ]
    }
   ],
   "source": [
    "\n",
    "\n",
    "# string comprehension\n",
    "#cities = ['Chicago', 'New York', 'Los Angeles', 'Denver', 'Champaign']\n",
    "\n",
    "names = ['connor', 'connor', 'bob', 'connor', 'evan', 'max', 'evan', 'bob', 'kevin']\n",
    "\n",
    "#first_letters = [city[0] for city in cities]\n",
    "#print(first_letters)\n",
    "\n",
    "four_names = [name for name in names if len(name) >= 4]\n",
    "print(four_names)\n",
    "\n",
    "#four_names = []\n",
    "#for name in names:\n",
    " #  four_names.append(name,strip().title())\n",
    "    \n",
    "    \n",
    "for i in range(len(four_names)):\n",
    "    four_names[i] = four_names[i].strip().title()\n",
    "print(four_names)\n",
    "\n",
    "# Adding filters\n",
    "#cities_starting_with_c = []\n",
    "\n",
    "#for city in cities:\n",
    "   # if city[0] == 'C':\n",
    "      #  cities_starting_with_c.append(city)\n",
    "        \n",
    "#print(cities_starting_with_c)\n",
    "\n",
    "# Using an 'if' in list comprehension ... filter comes after the for\n",
    "\n",
    "#c_cities = [city for city in cities if city[0] == 'C']\n",
    "#print(c_cities)"
   ]
  },
  {
   "cell_type": "code",
   "execution_count": 1,
   "id": "3a95b980",
   "metadata": {},
   "outputs": [],
   "source": [
    "names1 = ['connor', 'connor', 'bob', 'connor', 'evan', 'max', 'evan', 'bob', 'kevin']\n",
    "\n",
    "# Bonus Challenge\n",
    "names2 = ['connor', 'connor', 'bob', 'connor', 'evan', 'max', 'evan', 2, 2, 2, 3, 3, 4, 'bob', 'kevin']"
   ]
  },
  {
   "cell_type": "code",
   "execution_count": null,
   "id": "57c37a28",
   "metadata": {},
   "outputs": [],
   "source": [
    "# Output - ['Connor', 'Connor', 'Connor', 'Evan', 'Evan', 'Kevin']"
   ]
  }
 ],
 "metadata": {
  "kernelspec": {
   "display_name": "Python 3 (ipykernel)",
   "language": "python",
   "name": "python3"
  },
  "language_info": {
   "codemirror_mode": {
    "name": "ipython",
    "version": 3
   },
   "file_extension": ".py",
   "mimetype": "text/x-python",
   "name": "python",
   "nbconvert_exporter": "python",
   "pygments_lexer": "ipython3",
   "version": "3.9.12"
  }
 },
 "nbformat": 4,
 "nbformat_minor": 5
}
